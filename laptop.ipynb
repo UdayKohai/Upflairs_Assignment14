{
 "cells": [
  {
   "cell_type": "code",
   "execution_count": null,
   "metadata": {},
   "outputs": [],
   "source": [
    "import pandas as pd\n",
    "laptop = pd.read_csv('laptopPrice.csv')\n",
    "print('Bottom 5:\\n',laptop.tail())\n",
    "print('\\nTop 5:\\n',laptop.head())\n",
    "laptop"
   ]
  },
  {
   "cell_type": "code",
   "execution_count": null,
   "metadata": {},
   "outputs": [],
   "source": [
    "shp = laptop.shape\n",
    "print(f'No of Rows : {shp[0]}')\n",
    "print(f'No of Columns : {shp[1]}')"
   ]
  },
  {
   "cell_type": "code",
   "execution_count": null,
   "metadata": {},
   "outputs": [],
   "source": [
    "brd = laptop.value_counts('brand')\n",
    "print(brd)\n",
    "print(f'Max_Av = ',brd.idxmax() , '\\t,Min_Avl = ',brd.idxmin())"
   ]
  },
  {
   "cell_type": "code",
   "execution_count": null,
   "metadata": {},
   "outputs": [],
   "source": [
    "brand = laptop.groupby('brand')\n",
    "# brand[['brand']].value_counts\n",
    "brand['Price'].agg(min_col='min',max_col='max')"
   ]
  },
  {
   "cell_type": "code",
   "execution_count": null,
   "metadata": {},
   "outputs": [],
   "source": [
    "apple = laptop[laptop['brand']=='APPLE']\n",
    "apple = apple.sort_values('Price')\n",
    "print(f'Lowest Price :\\n{apple.head()}')\n",
    "\n",
    "print(f'\\nHighest Price :\\n{apple.tail()}')"
   ]
  }
 ],
 "metadata": {
  "kernelspec": {
   "display_name": "Python 3",
   "language": "python",
   "name": "python3"
  },
  "language_info": {
   "codemirror_mode": {
    "name": "ipython",
    "version": 3
   },
   "file_extension": ".py",
   "mimetype": "text/x-python",
   "name": "python",
   "nbconvert_exporter": "python",
   "pygments_lexer": "ipython3",
   "version": "3.12.3"
  }
 },
 "nbformat": 4,
 "nbformat_minor": 2
}
